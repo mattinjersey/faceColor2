{
 "cells": [
  {
   "cell_type": "code",
   "execution_count": 1,
   "metadata": {},
   "outputs": [],
   "source": [
    "import numpy as np\n",
    "import cv2 "
   ]
  },
  {
   "cell_type": "code",
   "execution_count": 2,
   "metadata": {},
   "outputs": [],
   "source": [
    "cap=cv2.VideoCapture(1)"
   ]
  },
  {
   "cell_type": "code",
   "execution_count": 3,
   "metadata": {},
   "outputs": [
    {
     "name": "stdout",
     "output_type": "stream",
     "text": [
      "True\n"
     ]
    }
   ],
   "source": [
    "face_cascade=cv2.CascadeClassifier()\n",
    "test1=face_cascade.load('C:\\\\Users\\\\susan\\\\Anaconda3\\\\Lib\\\\site-packages\\\\cv2\\\\data\\\\haarcascade_frontalface_default.xml')\n",
    "print(test1)"
   ]
  },
  {
   "cell_type": "code",
   "execution_count": 4,
   "metadata": {},
   "outputs": [],
   "source": [
    "def increase_brightness(img, a,b,c,a1):\n",
    "    h, s, v = (cv2.split(img))\n",
    "    hMean=np.mean(h,0)\n",
    "    hMean=np.mean(hMean,0)\n",
    "    sMean=np.mean(s)\n",
    "    vMean=np.mean(v)\n",
    "    lim = 255 \n",
    "    delta=20\n",
    "    B=np.copy(h)\n",
    "    #print('hShape:'+str(h.shape))\n",
    "    #print('hMeanShape:'+str(hMean.shape))\n",
    "    idx=(h>hMean-delta) & (h<hMean+delta)\n",
    "    if a1==1:\n",
    "      B[idx]+=a\n",
    "    else:\n",
    "      B[idx]-=a\n",
    "    h=B\n",
    "    h[h > lim] = lim\n",
    "    h[h<0]=0\n",
    "    B=np.copy(s)\n",
    "    idx=(s>sMean-delta ) & (s<sMean+delta)\n",
    "    if a1==1:\n",
    "       B[idx]+=b\n",
    "    else:\n",
    "       B[idx]-=b\n",
    "    s=B\n",
    "    s[s> lim] = lim\n",
    "    s[s<0]=0\n",
    "    B=np.copy(v)\n",
    "    idx=(v>vMean-delta) & (v<vMean+delta)\n",
    "    if a1==1:\n",
    "      B[idx]+=c\n",
    "    else:\n",
    "      B[idx]-=c\n",
    "    v=B\n",
    "    v[v>lim]=lim\n",
    "    v[v<0]=0\n",
    "    img = cv2.merge((h, s, v))\n",
    "    return img"
   ]
  },
  {
   "cell_type": "code",
   "execution_count": null,
   "metadata": {},
   "outputs": [
    {
     "name": "stdout",
     "output_type": "stream",
     "text": [
      "start video\n"
     ]
    }
   ],
   "source": [
    "print('start video')\n",
    "a=150\n",
    "b=50\n",
    "c=150\n",
    "a1=1\n",
    "while True:\n",
    "    ret,img=cap.read()\n",
    "    if ret:\n",
    "        #a,b,c,=img.shape\n",
    "        #print('a:',a,'b:',b,'c:',c)\n",
    "        gray=cv2.cvtColor(img,cv2.COLOR_BGR2GRAY)\n",
    "        #hsvX=cv2.cvtColor(img,cv2.COLOR_BGR2HSV)\n",
    "        #gray=img\n",
    "        faces=face_cascade.detectMultiScale(gray)\n",
    "        aDelta=30\n",
    "        for (x,y,w,h) in faces:\n",
    "            x=max(0,x-aDelta)\n",
    "            y=max(0,y-aDelta)\n",
    "            w=w+aDelta\n",
    "            h=h+aDelta\n",
    "            roi_face=img[y:y+h,x:x+w]\n",
    "            roi_face=increase_brightness(roi_face,a,b,c,a1)\n",
    "            img[y:y+h,x:x+w]=roi_face\n",
    "            #roi_face=cv2.convertTo(img,-1,alpha,beta)\n",
    "            #cv2.rectangle(img,(x,y),(x+w,y+h),(255,0,0),2)\n",
    "            roi_gray=gray[y:y+h,x:x+w]\n",
    "            roi_color=img[y:y+h,x:x+w]\n",
    "            #eyes=eye_cascade.detectMultiScale(roi_gray)\n",
    "            #for (ex,ey,ew,eh) in eyes:\n",
    "            #  pass\n",
    "            #cv2.rectangle(roi_color,(ex,ey),(ex+ew,ey+eh),(0,250,0),2)\n",
    "        #print(str(img.shape))\n",
    "        #cv2.imshow('img',img)\n",
    "        #TsvX=cv2.cvtColor(hsvX,cv2.COLOR_HSV2BGR)\n",
    "        cv2.imshow('video output',img)\n",
    "        k=cv2.waitKey(10)&0xff\n",
    "        if k==27:\n",
    "            break\n",
    "    else:\n",
    "            print(str(ret))\n"
   ]
  },
  {
   "cell_type": "code",
   "execution_count": null,
   "metadata": {},
   "outputs": [],
   "source": [
    "cap.release()\n",
    "cap.destroyAllWindows()\n",
    "print('end video')"
   ]
  },
  {
   "cell_type": "code",
   "execution_count": null,
   "metadata": {},
   "outputs": [],
   "source": []
  }
 ],
 "metadata": {
  "kernelspec": {
   "display_name": "Python 3",
   "language": "python",
   "name": "python3"
  },
  "language_info": {
   "codemirror_mode": {
    "name": "ipython",
    "version": 3
   },
   "file_extension": ".py",
   "mimetype": "text/x-python",
   "name": "python",
   "nbconvert_exporter": "python",
   "pygments_lexer": "ipython3",
   "version": "3.6.5"
  }
 },
 "nbformat": 4,
 "nbformat_minor": 2
}
